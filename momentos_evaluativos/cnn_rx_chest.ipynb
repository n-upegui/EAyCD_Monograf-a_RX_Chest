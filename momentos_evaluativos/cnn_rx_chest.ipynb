{
 "cells": [
  {
   "cell_type": "code",
   "execution_count": 125,
   "metadata": {},
   "outputs": [],
   "source": [
    "import sys\n",
    "import os\n",
    "import numpy as np\n",
    "# Librerías para red neuronal\n",
    "import tensorflow as tf\n",
    "from tensorflow.keras.utils import to_categorical\n",
    "from tensorflow.keras.preprocessing.image import ImageDataGenerator\n",
    "from tensorflow.keras.models import Sequential\n",
    "from tensorflow.keras.layers import Conv2D, MaxPooling2D, Flatten, Dense\n",
    "import matplotlib.pyplot as plt\n",
    "from tensorflow.python.keras import backend as K\n",
    "\n",
    "K.clear_session()"
   ]
  },
  {
   "cell_type": "code",
   "execution_count": 126,
   "metadata": {},
   "outputs": [],
   "source": [
    "#Carpetas de las imágenes\n",
    "data_train = './train/'\n",
    "data_test = './test/'"
   ]
  },
  {
   "cell_type": "code",
   "execution_count": 127,
   "metadata": {},
   "outputs": [],
   "source": [
    "#parámetros\n",
    "\n",
    "epocas = 10\n",
    "longitud, altura = 1024, 1024\n",
    "batch_size = 32\n",
    "pasos = 128\n",
    "validation_steps = 300\n",
    "filtrosConv = 32\n",
    "tam_filtro = (3, 3)\n",
    "tam_pool = (2, 2)\n",
    "clases = 3\n",
    "lr = 0.0005\n"
   ]
  },
  {
   "cell_type": "code",
   "execution_count": 128,
   "metadata": {},
   "outputs": [],
   "source": [
    "##Preparamos nuestras imagenes\n",
    "\n",
    "#y_train = to_categorical()\n",
    "\n",
    "train_datagen = ImageDataGenerator(rescale = 1./255,\n",
    "                                   shear_range = 0.2,\n",
    "                                   zoom_range = 0.2,\n",
    "                                   horizontal_flip = True)\n",
    "\n",
    "test_datagen = ImageDataGenerator(rescale = 1./255)"
   ]
  },
  {
   "cell_type": "code",
   "execution_count": 129,
   "metadata": {},
   "outputs": [
    {
     "name": "stdout",
     "output_type": "stream",
     "text": [
      "Found 1500 images belonging to 3 classes.\n",
      "Found 600 images belonging to 3 classes.\n"
     ]
    }
   ],
   "source": [
    "train_generador = train_datagen.flow_from_directory(data_train,\n",
    "                                                    target_size = (150, 150),\n",
    "                                                    batch_size  = batch_size,\n",
    "                                                    class_mode  = 'categorical')\n",
    "\n",
    "test_generador = test_datagen.flow_from_directory(data_test,\n",
    "                                                  target_size = (150, 150),\n",
    "                                                  batch_size  = batch_size,\n",
    "                                                  class_mode  = 'categorical')"
   ]
  },
  {
   "cell_type": "code",
   "execution_count": 131,
   "metadata": {},
   "outputs": [],
   "source": [
    "modelo = Sequential([Conv2D(filtrosConv, tam_filtro, activation = 'relu', input_shape = (150, 150, 3)),\n",
    "                     MaxPooling2D(tam_pool),\n",
    "                     Flatten(),\n",
    "                     Dense(512, activation = 'relu'),\n",
    "                     Dense(clases, activation = 'softmax')\n",
    "                     ])"
   ]
  },
  {
   "cell_type": "code",
   "execution_count": 122,
   "metadata": {},
   "outputs": [
    {
     "name": "stdout",
     "output_type": "stream",
     "text": [
      "Epoch 1/10\n",
      "\u001b[1m128/128\u001b[0m \u001b[32m━━━━━━━━━━━━━━━━━━━━\u001b[0m\u001b[37m\u001b[0m \u001b[1m82s\u001b[0m 578ms/step - accuracy: 0.4088 - loss: 8.4277 - val_accuracy: 0.3883 - val_loss: 1.2222\n",
      "Epoch 2/10\n",
      "\u001b[1m128/128\u001b[0m \u001b[32m━━━━━━━━━━━━━━━━━━━━\u001b[0m\u001b[37m\u001b[0m \u001b[1m76s\u001b[0m 542ms/step - accuracy: 0.4748 - loss: 1.0198 - val_accuracy: 0.3833 - val_loss: 1.2178\n",
      "Epoch 3/10\n",
      "\u001b[1m128/128\u001b[0m \u001b[32m━━━━━━━━━━━━━━━━━━━━\u001b[0m\u001b[37m\u001b[0m \u001b[1m75s\u001b[0m 532ms/step - accuracy: 0.4865 - loss: 1.0137 - val_accuracy: 0.3933 - val_loss: 1.2890\n",
      "Epoch 4/10\n",
      "\u001b[1m128/128\u001b[0m \u001b[32m━━━━━━━━━━━━━━━━━━━━\u001b[0m\u001b[37m\u001b[0m \u001b[1m75s\u001b[0m 533ms/step - accuracy: 0.5093 - loss: 0.9941 - val_accuracy: 0.3300 - val_loss: 1.2333\n",
      "Epoch 5/10\n",
      "\u001b[1m128/128\u001b[0m \u001b[32m━━━━━━━━━━━━━━━━━━━━\u001b[0m\u001b[37m\u001b[0m \u001b[1m75s\u001b[0m 534ms/step - accuracy: 0.5120 - loss: 0.9735 - val_accuracy: 0.3467 - val_loss: 1.2747\n",
      "Epoch 6/10\n",
      "\u001b[1m128/128\u001b[0m \u001b[32m━━━━━━━━━━━━━━━━━━━━\u001b[0m\u001b[37m\u001b[0m \u001b[1m77s\u001b[0m 549ms/step - accuracy: 0.5311 - loss: 0.9618 - val_accuracy: 0.3333 - val_loss: 1.3815\n",
      "Epoch 7/10\n",
      "\u001b[1m128/128\u001b[0m \u001b[32m━━━━━━━━━━━━━━━━━━━━\u001b[0m\u001b[37m\u001b[0m \u001b[1m77s\u001b[0m 549ms/step - accuracy: 0.5044 - loss: 0.9867 - val_accuracy: 0.3650 - val_loss: 1.2858\n",
      "Epoch 8/10\n",
      "\u001b[1m128/128\u001b[0m \u001b[32m━━━━━━━━━━━━━━━━━━━━\u001b[0m\u001b[37m\u001b[0m \u001b[1m75s\u001b[0m 531ms/step - accuracy: 0.5308 - loss: 0.9604 - val_accuracy: 0.3600 - val_loss: 1.2451\n",
      "Epoch 9/10\n",
      "\u001b[1m128/128\u001b[0m \u001b[32m━━━━━━━━━━━━━━━━━━━━\u001b[0m\u001b[37m\u001b[0m \u001b[1m82s\u001b[0m 531ms/step - accuracy: 0.5417 - loss: 0.9479 - val_accuracy: 0.3617 - val_loss: 1.2725\n",
      "Epoch 10/10\n",
      "\u001b[1m128/128\u001b[0m \u001b[32m━━━━━━━━━━━━━━━━━━━━\u001b[0m\u001b[37m\u001b[0m \u001b[1m76s\u001b[0m 541ms/step - accuracy: 0.5464 - loss: 0.9285 - val_accuracy: 0.3533 - val_loss: 1.2548\n"
     ]
    },
    {
     "data": {
      "text/plain": [
       "<keras.src.callbacks.history.History at 0x21dcf48ac90>"
      ]
     },
     "execution_count": 122,
     "metadata": {},
     "output_type": "execute_result"
    }
   ],
   "source": [
    "# Compilación y entrenamiento\n",
    "modelo.compile(optimizer = 'adam',\n",
    "               loss='categorical_crossentropy',\n",
    "               metrics=['accuracy']\n",
    "               )\n",
    "\n",
    "modelo.fit(train_generador,\n",
    "           steps_per_epoch = pasos,\n",
    "           epochs = epocas,\n",
    "           validation_data = test_generador,\n",
    "           validation_steps = validation_steps\n",
    "           )\n",
    "\n"
   ]
  },
  {
   "cell_type": "code",
   "execution_count": 124,
   "metadata": {},
   "outputs": [
    {
     "name": "stderr",
     "output_type": "stream",
     "text": [
      "WARNING:absl:You are saving your model as an HDF5 file via `model.save()` or `keras.saving.save_model(model)`. This file format is considered legacy. We recommend using instead the native Keras format, e.g. `model.save('my_model.keras')` or `keras.saving.save_model(model, 'my_model.keras')`. \n"
     ]
    }
   ],
   "source": [
    "target_dir = './modelo/'\n",
    "if not os.path.exists(target_dir):\n",
    "  os.mkdir(target_dir)\n",
    "modelo.save('./modelo/modelo.h5')\n",
    "modelo.save_weights('./modelo/pesos.weights.h5')"
   ]
  }
 ],
 "metadata": {
  "kernelspec": {
   "display_name": "Python 3",
   "language": "python",
   "name": "python3"
  },
  "language_info": {
   "codemirror_mode": {
    "name": "ipython",
    "version": 3
   },
   "file_extension": ".py",
   "mimetype": "text/x-python",
   "name": "python",
   "nbconvert_exporter": "python",
   "pygments_lexer": "ipython3",
   "version": "3.11.9"
  }
 },
 "nbformat": 4,
 "nbformat_minor": 2
}
