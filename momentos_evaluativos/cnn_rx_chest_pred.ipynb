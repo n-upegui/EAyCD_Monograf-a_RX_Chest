{
 "cells": [
  {
   "cell_type": "code",
   "execution_count": 33,
   "metadata": {},
   "outputs": [],
   "source": [
    "import numpy as np\n",
    "\n",
    "# Librerías para red neuronal\n",
    "from tensorflow.keras.preprocessing.image import load_img, img_to_array\n",
    "from tensorflow.keras.models import load_model\n",
    "from tensorflow.image import resize"
   ]
  },
  {
   "cell_type": "code",
   "execution_count": 34,
   "metadata": {},
   "outputs": [],
   "source": [
    "#parámetros\n",
    "longitud, altura = 1024, 1024"
   ]
  },
  {
   "cell_type": "code",
   "execution_count": 35,
   "metadata": {},
   "outputs": [],
   "source": [
    "#se almacena el modelo entrenado en variables\n",
    "modelo = './modelo/modelo.h5'\n",
    "pesos = './modelo/pesos.weights.h5'"
   ]
  },
  {
   "cell_type": "code",
   "execution_count": 36,
   "metadata": {},
   "outputs": [
    {
     "name": "stderr",
     "output_type": "stream",
     "text": [
      "WARNING:absl:Compiled the loaded model, but the compiled metrics have yet to be built. `model.compile_metrics` will be empty until you train or evaluate the model.\n"
     ]
    }
   ],
   "source": [
    "#se carga el modelo entrenado\n",
    "modelo_pred = load_model(modelo)\n",
    "modelo_pred.load_weights(pesos)"
   ]
  },
  {
   "cell_type": "code",
   "execution_count": 37,
   "metadata": {},
   "outputs": [],
   "source": [
    "\n",
    "def preprocess_image(file, target_size):\n",
    "    image = load_img(file)\n",
    "    image = img_to_array(image)\n",
    "    image = resize(image, size=target_size)  # Redimensionar la imagen al tamaño deseado\n",
    "    image = image / 255.0  # Normalizar los valores de píxeles al rango [0, 1]\n",
    "    image = np.expand_dims(image, axis=0)  # Añadir una dimensión adicional para el batch\n",
    "    return image\n",
    "\n",
    "def predict(file):\n",
    "    X = preprocess_image(file, (150, 150))  # Redimensionar la imagen a (150, 150)\n",
    "    arreglo = modelo_pred.predict(X)\n",
    "    respuesta = np.argmax(arreglo)\n",
    "\n",
    "    if respuesta == 2:\n",
    "        clase_predicha = 'Atelectasis'\n",
    "    elif respuesta == 1:\n",
    "        clase_predicha = 'Cardiomegaly'\n",
    "    elif respuesta == 0:\n",
    "        clase_predicha = 'Consolidation'\n",
    "\n",
    "    return clase_predicha"
   ]
  },
  {
   "cell_type": "code",
   "execution_count": 38,
   "metadata": {},
   "outputs": [
    {
     "name": "stdout",
     "output_type": "stream",
     "text": [
      "\u001b[1m1/1\u001b[0m \u001b[32m━━━━━━━━━━━━━━━━━━━━\u001b[0m\u001b[37m\u001b[0m \u001b[1m0s\u001b[0m 72ms/step\n",
      "Cardiomegaly\n"
     ]
    }
   ],
   "source": [
    "# Llamada a la función predict con la imagen\n",
    "resultado = predict('01-atel.png')\n",
    "print(resultado)"
   ]
  },
  {
   "cell_type": "code",
   "execution_count": 39,
   "metadata": {},
   "outputs": [
    {
     "name": "stdout",
     "output_type": "stream",
     "text": [
      "\u001b[1m1/1\u001b[0m \u001b[32m━━━━━━━━━━━━━━━━━━━━\u001b[0m\u001b[37m\u001b[0m \u001b[1m0s\u001b[0m 35ms/step\n",
      "Cardiomegaly\n"
     ]
    }
   ],
   "source": [
    "# Llamada a la función predict con la imagen\n",
    "resultado = predict('02-card.png')\n",
    "print(resultado)"
   ]
  },
  {
   "cell_type": "code",
   "execution_count": 40,
   "metadata": {},
   "outputs": [
    {
     "name": "stdout",
     "output_type": "stream",
     "text": [
      "\u001b[1m1/1\u001b[0m \u001b[32m━━━━━━━━━━━━━━━━━━━━\u001b[0m\u001b[37m\u001b[0m \u001b[1m0s\u001b[0m 33ms/step\n",
      "Consolidation\n"
     ]
    }
   ],
   "source": [
    "# Llamada a la función predict con la imagen\n",
    "resultado = predict('03-cons.png')\n",
    "print(resultado)"
   ]
  }
 ],
 "metadata": {
  "kernelspec": {
   "display_name": "Python 3",
   "language": "python",
   "name": "python3"
  },
  "language_info": {
   "codemirror_mode": {
    "name": "ipython",
    "version": 3
   },
   "file_extension": ".py",
   "mimetype": "text/x-python",
   "name": "python",
   "nbconvert_exporter": "python",
   "pygments_lexer": "ipython3",
   "version": "3.11.9"
  }
 },
 "nbformat": 4,
 "nbformat_minor": 2
}
